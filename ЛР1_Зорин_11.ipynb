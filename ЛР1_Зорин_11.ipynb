{
 "cells": [
  {
   "cell_type": "markdown",
   "id": "092f66a5-05b7-4849-9794-5a3db5cb28a7",
   "metadata": {},
   "source": [
    "# Лабораторная работа 1\n",
    "## Раздел 1: Загрузка данных\n",
    "### Подраздел 1.1: Импорт библиотек"
   ]
  },
  {
   "cell_type": "code",
   "execution_count": 1,
   "id": "bcf6b3dd-d916-416c-9e11-b9b95e90adc1",
   "metadata": {},
   "outputs": [],
   "source": [
    "import pandas as pd\n",
    "import numpy as np"
   ]
  },
  {
   "cell_type": "markdown",
   "id": "c106acad-da84-4eae-ab31-d865525b896e",
   "metadata": {},
   "source": [
    "### Подраздел 1.2: Чтение файла auto.csv"
   ]
  },
  {
   "cell_type": "code",
   "execution_count": 25,
   "id": "30ac6331-0373-4500-8aa7-fec32c7fae00",
   "metadata": {},
   "outputs": [
    {
     "data": {
      "text/html": [
       "<div>\n",
       "<style scoped>\n",
       "    .dataframe tbody tr th:only-of-type {\n",
       "        vertical-align: middle;\n",
       "    }\n",
       "\n",
       "    .dataframe tbody tr th {\n",
       "        vertical-align: top;\n",
       "    }\n",
       "\n",
       "    .dataframe thead th {\n",
       "        text-align: right;\n",
       "    }\n",
       "</style>\n",
       "<table border=\"1\" class=\"dataframe\">\n",
       "  <thead>\n",
       "    <tr style=\"text-align: right;\">\n",
       "      <th></th>\n",
       "      <th>Name</th>\n",
       "      <th>year</th>\n",
       "      <th>SellingPrice</th>\n",
       "      <th>kmdriven</th>\n",
       "      <th>fuel</th>\n",
       "      <th>seller_Type</th>\n",
       "      <th>transmission</th>\n",
       "      <th>owner</th>\n",
       "    </tr>\n",
       "  </thead>\n",
       "  <tbody>\n",
       "    <tr>\n",
       "      <th>0</th>\n",
       "      <td>Maruti 800 AC</td>\n",
       "      <td>2007</td>\n",
       "      <td>60000.0</td>\n",
       "      <td>70000.0</td>\n",
       "      <td>Petrol</td>\n",
       "      <td>Individual</td>\n",
       "      <td>Manual</td>\n",
       "      <td>First Owner</td>\n",
       "    </tr>\n",
       "    <tr>\n",
       "      <th>1</th>\n",
       "      <td>Maruti Wagon R LXI Minor</td>\n",
       "      <td>2007</td>\n",
       "      <td>135000.0</td>\n",
       "      <td>50000.0</td>\n",
       "      <td>Petrol</td>\n",
       "      <td>Individual</td>\n",
       "      <td>Manual</td>\n",
       "      <td>First Owner</td>\n",
       "    </tr>\n",
       "    <tr>\n",
       "      <th>2</th>\n",
       "      <td>Hyundai Verna 1.6 SX</td>\n",
       "      <td>2012</td>\n",
       "      <td>600000.0</td>\n",
       "      <td>100000.0</td>\n",
       "      <td>Diesel</td>\n",
       "      <td>Individual</td>\n",
       "      <td>Manual</td>\n",
       "      <td>First Owner</td>\n",
       "    </tr>\n",
       "    <tr>\n",
       "      <th>3</th>\n",
       "      <td>Datsun RediGO T Option</td>\n",
       "      <td>2017</td>\n",
       "      <td>250000.0</td>\n",
       "      <td>46000.0</td>\n",
       "      <td>Petrol</td>\n",
       "      <td>Individual</td>\n",
       "      <td>Manual</td>\n",
       "      <td>First Owner</td>\n",
       "    </tr>\n",
       "    <tr>\n",
       "      <th>4</th>\n",
       "      <td>Honda Amaze VX i-DTEC</td>\n",
       "      <td>2014</td>\n",
       "      <td>450000.0</td>\n",
       "      <td>141000.0</td>\n",
       "      <td>Diesel</td>\n",
       "      <td>Individual</td>\n",
       "      <td>Manual</td>\n",
       "      <td>Second Owner</td>\n",
       "    </tr>\n",
       "  </tbody>\n",
       "</table>\n",
       "</div>"
      ],
      "text/plain": [
       "                       Name  year  SellingPrice  kmdriven    fuel seller_Type  \\\n",
       "0             Maruti 800 AC  2007       60000.0   70000.0  Petrol  Individual   \n",
       "1  Maruti Wagon R LXI Minor  2007      135000.0   50000.0  Petrol  Individual   \n",
       "2      Hyundai Verna 1.6 SX  2012      600000.0  100000.0  Diesel  Individual   \n",
       "3    Datsun RediGO T Option  2017      250000.0   46000.0  Petrol  Individual   \n",
       "4     Honda Amaze VX i-DTEC  2014      450000.0  141000.0  Diesel  Individual   \n",
       "\n",
       "  transmission         owner  \n",
       "0       Manual   First Owner  \n",
       "1       Manual   First Owner  \n",
       "2       Manual   First Owner  \n",
       "3       Manual   First Owner  \n",
       "4       Manual  Second Owner  "
      ]
     },
     "execution_count": 25,
     "metadata": {},
     "output_type": "execute_result"
    }
   ],
   "source": [
    "df = pd.read_csv('/Users/zorinmihail/desktop/auto.csv')\n",
    "df.head()"
   ]
  },
  {
   "cell_type": "markdown",
   "id": "cbd86116-3bc1-499a-816c-f7c7aee855c9",
   "metadata": {},
   "source": [
    "## Раздел 2: Обзор данных\n",
    "### Подраздел 2.1: Вывод первых 20 строк"
   ]
  },
  {
   "cell_type": "code",
   "execution_count": 4,
   "id": "396f1fa9-2387-483c-9e3c-a43f2b684de8",
   "metadata": {},
   "outputs": [
    {
     "data": {
      "text/html": [
       "<div>\n",
       "<style scoped>\n",
       "    .dataframe tbody tr th:only-of-type {\n",
       "        vertical-align: middle;\n",
       "    }\n",
       "\n",
       "    .dataframe tbody tr th {\n",
       "        vertical-align: top;\n",
       "    }\n",
       "\n",
       "    .dataframe thead th {\n",
       "        text-align: right;\n",
       "    }\n",
       "</style>\n",
       "<table border=\"1\" class=\"dataframe\">\n",
       "  <thead>\n",
       "    <tr style=\"text-align: right;\">\n",
       "      <th></th>\n",
       "      <th>Name</th>\n",
       "      <th>year</th>\n",
       "      <th>SellingPrice</th>\n",
       "      <th>kmdriven</th>\n",
       "      <th>fuel</th>\n",
       "      <th>seller_Type</th>\n",
       "      <th>transmission</th>\n",
       "      <th>owner</th>\n",
       "    </tr>\n",
       "  </thead>\n",
       "  <tbody>\n",
       "    <tr>\n",
       "      <th>0</th>\n",
       "      <td>Maruti 800 AC</td>\n",
       "      <td>2007</td>\n",
       "      <td>60000.0</td>\n",
       "      <td>70000.0</td>\n",
       "      <td>Petrol</td>\n",
       "      <td>Individual</td>\n",
       "      <td>Manual</td>\n",
       "      <td>First Owner</td>\n",
       "    </tr>\n",
       "    <tr>\n",
       "      <th>1</th>\n",
       "      <td>Maruti Wagon R LXI Minor</td>\n",
       "      <td>2007</td>\n",
       "      <td>135000.0</td>\n",
       "      <td>50000.0</td>\n",
       "      <td>Petrol</td>\n",
       "      <td>Individual</td>\n",
       "      <td>Manual</td>\n",
       "      <td>First Owner</td>\n",
       "    </tr>\n",
       "    <tr>\n",
       "      <th>2</th>\n",
       "      <td>Hyundai Verna 1.6 SX</td>\n",
       "      <td>2012</td>\n",
       "      <td>600000.0</td>\n",
       "      <td>100000.0</td>\n",
       "      <td>Diesel</td>\n",
       "      <td>Individual</td>\n",
       "      <td>Manual</td>\n",
       "      <td>First Owner</td>\n",
       "    </tr>\n",
       "    <tr>\n",
       "      <th>3</th>\n",
       "      <td>Datsun RediGO T Option</td>\n",
       "      <td>2017</td>\n",
       "      <td>250000.0</td>\n",
       "      <td>46000.0</td>\n",
       "      <td>Petrol</td>\n",
       "      <td>Individual</td>\n",
       "      <td>Manual</td>\n",
       "      <td>First Owner</td>\n",
       "    </tr>\n",
       "    <tr>\n",
       "      <th>4</th>\n",
       "      <td>Honda Amaze VX i-DTEC</td>\n",
       "      <td>2014</td>\n",
       "      <td>450000.0</td>\n",
       "      <td>141000.0</td>\n",
       "      <td>Diesel</td>\n",
       "      <td>Individual</td>\n",
       "      <td>Manual</td>\n",
       "      <td>Second Owner</td>\n",
       "    </tr>\n",
       "    <tr>\n",
       "      <th>5</th>\n",
       "      <td>Maruti Alto LX BSIII</td>\n",
       "      <td>2007</td>\n",
       "      <td>140000.0</td>\n",
       "      <td>125000.0</td>\n",
       "      <td>Petrol</td>\n",
       "      <td>Individual</td>\n",
       "      <td>Manual</td>\n",
       "      <td>First Owner</td>\n",
       "    </tr>\n",
       "    <tr>\n",
       "      <th>6</th>\n",
       "      <td>Hyundai Xcent 1.2 Kappa S</td>\n",
       "      <td>2016</td>\n",
       "      <td>550000.0</td>\n",
       "      <td>25000.0</td>\n",
       "      <td>Petrol</td>\n",
       "      <td>Individual</td>\n",
       "      <td>Manual</td>\n",
       "      <td>First Owner</td>\n",
       "    </tr>\n",
       "    <tr>\n",
       "      <th>7</th>\n",
       "      <td>Tata Indigo Grand Petroll</td>\n",
       "      <td>2014</td>\n",
       "      <td>240000.0</td>\n",
       "      <td>60000.0</td>\n",
       "      <td>Petrol</td>\n",
       "      <td>Individual</td>\n",
       "      <td>Manual</td>\n",
       "      <td>Second Owner</td>\n",
       "    </tr>\n",
       "    <tr>\n",
       "      <th>8</th>\n",
       "      <td>Hyundai Creta 1.6 VTVT S</td>\n",
       "      <td>2015</td>\n",
       "      <td>850000.0</td>\n",
       "      <td>25000.0</td>\n",
       "      <td>Petroll</td>\n",
       "      <td>Individual</td>\n",
       "      <td>Manual</td>\n",
       "      <td>First Owner</td>\n",
       "    </tr>\n",
       "    <tr>\n",
       "      <th>9</th>\n",
       "      <td>Maruti Celerio Green VXI</td>\n",
       "      <td>2017</td>\n",
       "      <td>365000.0</td>\n",
       "      <td>78000.0</td>\n",
       "      <td>CNG</td>\n",
       "      <td>Individual</td>\n",
       "      <td>Manual</td>\n",
       "      <td>First Owner</td>\n",
       "    </tr>\n",
       "    <tr>\n",
       "      <th>10</th>\n",
       "      <td>Chevrolet Sail 1.2 Base</td>\n",
       "      <td>2015</td>\n",
       "      <td>260000.0</td>\n",
       "      <td>35000.0</td>\n",
       "      <td>Petrol</td>\n",
       "      <td>Individual</td>\n",
       "      <td>Manual</td>\n",
       "      <td>First Owner</td>\n",
       "    </tr>\n",
       "    <tr>\n",
       "      <th>11</th>\n",
       "      <td>Tata Indigo Grand Petrol</td>\n",
       "      <td>2014</td>\n",
       "      <td>250000.0</td>\n",
       "      <td>100000.0</td>\n",
       "      <td>Petrol</td>\n",
       "      <td>Individual</td>\n",
       "      <td>Manual</td>\n",
       "      <td>First Owner</td>\n",
       "    </tr>\n",
       "    <tr>\n",
       "      <th>12</th>\n",
       "      <td>Toyota Corolla Altis 1.8 VL CVT</td>\n",
       "      <td>2018</td>\n",
       "      <td>1650000.0</td>\n",
       "      <td>25000.0</td>\n",
       "      <td>Petrol</td>\n",
       "      <td>Dealer</td>\n",
       "      <td>Automatic</td>\n",
       "      <td>First Owner</td>\n",
       "    </tr>\n",
       "    <tr>\n",
       "      <th>13</th>\n",
       "      <td>Maruti 800 AC</td>\n",
       "      <td>2007</td>\n",
       "      <td>60000.0</td>\n",
       "      <td>70000.0</td>\n",
       "      <td>Petrol</td>\n",
       "      <td>Individual</td>\n",
       "      <td>Manual</td>\n",
       "      <td>First Owner</td>\n",
       "    </tr>\n",
       "    <tr>\n",
       "      <th>14</th>\n",
       "      <td>Maruti Wagon R LXI Minor</td>\n",
       "      <td>2007</td>\n",
       "      <td>135000.0</td>\n",
       "      <td>50000.0</td>\n",
       "      <td>Petrol</td>\n",
       "      <td>Individual</td>\n",
       "      <td>Manual</td>\n",
       "      <td>First Owner</td>\n",
       "    </tr>\n",
       "    <tr>\n",
       "      <th>15</th>\n",
       "      <td>Hyundai Verna 1.6 SX</td>\n",
       "      <td>2012</td>\n",
       "      <td>600000.0</td>\n",
       "      <td>100000.0</td>\n",
       "      <td>Diesel</td>\n",
       "      <td>Individual</td>\n",
       "      <td>Manual</td>\n",
       "      <td>First Owner</td>\n",
       "    </tr>\n",
       "    <tr>\n",
       "      <th>16</th>\n",
       "      <td>Datsun RediGO T Option</td>\n",
       "      <td>2017</td>\n",
       "      <td>250000.0</td>\n",
       "      <td>46000.0</td>\n",
       "      <td>Petrol</td>\n",
       "      <td>Individual</td>\n",
       "      <td>Manual</td>\n",
       "      <td>First Owner</td>\n",
       "    </tr>\n",
       "    <tr>\n",
       "      <th>17</th>\n",
       "      <td>Honda Amaze VX i-DTEC</td>\n",
       "      <td>2014</td>\n",
       "      <td>450000.0</td>\n",
       "      <td>141000.0</td>\n",
       "      <td>Diesel</td>\n",
       "      <td>Individual</td>\n",
       "      <td>Manual</td>\n",
       "      <td>Second Owner</td>\n",
       "    </tr>\n",
       "    <tr>\n",
       "      <th>18</th>\n",
       "      <td>Maruti Alto LX BSIII</td>\n",
       "      <td>2007</td>\n",
       "      <td>140000.0</td>\n",
       "      <td>125000.0</td>\n",
       "      <td>Petrol</td>\n",
       "      <td>Individual</td>\n",
       "      <td>Manual</td>\n",
       "      <td>First Owner</td>\n",
       "    </tr>\n",
       "    <tr>\n",
       "      <th>19</th>\n",
       "      <td>Hyundai Xcent 1.2 Kappa S</td>\n",
       "      <td>2016</td>\n",
       "      <td>550000.0</td>\n",
       "      <td>25000.0</td>\n",
       "      <td>Petrol</td>\n",
       "      <td>Individual</td>\n",
       "      <td>Manual</td>\n",
       "      <td>First Owner</td>\n",
       "    </tr>\n",
       "  </tbody>\n",
       "</table>\n",
       "</div>"
      ],
      "text/plain": [
       "                               Name  year  SellingPrice  kmdriven     fuel  \\\n",
       "0                     Maruti 800 AC  2007       60000.0   70000.0   Petrol   \n",
       "1          Maruti Wagon R LXI Minor  2007      135000.0   50000.0   Petrol   \n",
       "2              Hyundai Verna 1.6 SX  2012      600000.0  100000.0   Diesel   \n",
       "3            Datsun RediGO T Option  2017      250000.0   46000.0   Petrol   \n",
       "4             Honda Amaze VX i-DTEC  2014      450000.0  141000.0   Diesel   \n",
       "5              Maruti Alto LX BSIII  2007      140000.0  125000.0   Petrol   \n",
       "6         Hyundai Xcent 1.2 Kappa S  2016      550000.0   25000.0   Petrol   \n",
       "7         Tata Indigo Grand Petroll  2014      240000.0   60000.0   Petrol   \n",
       "8          Hyundai Creta 1.6 VTVT S  2015      850000.0   25000.0  Petroll   \n",
       "9          Maruti Celerio Green VXI  2017      365000.0   78000.0      CNG   \n",
       "10          Chevrolet Sail 1.2 Base  2015      260000.0   35000.0   Petrol   \n",
       "11         Tata Indigo Grand Petrol  2014      250000.0  100000.0   Petrol   \n",
       "12  Toyota Corolla Altis 1.8 VL CVT  2018     1650000.0   25000.0   Petrol   \n",
       "13                    Maruti 800 AC  2007       60000.0   70000.0   Petrol   \n",
       "14         Maruti Wagon R LXI Minor  2007      135000.0   50000.0   Petrol   \n",
       "15             Hyundai Verna 1.6 SX  2012      600000.0  100000.0   Diesel   \n",
       "16           Datsun RediGO T Option  2017      250000.0   46000.0   Petrol   \n",
       "17            Honda Amaze VX i-DTEC  2014      450000.0  141000.0   Diesel   \n",
       "18             Maruti Alto LX BSIII  2007      140000.0  125000.0   Petrol   \n",
       "19        Hyundai Xcent 1.2 Kappa S  2016      550000.0   25000.0   Petrol   \n",
       "\n",
       "   seller_Type transmission         owner  \n",
       "0   Individual       Manual   First Owner  \n",
       "1   Individual       Manual   First Owner  \n",
       "2   Individual       Manual   First Owner  \n",
       "3   Individual       Manual   First Owner  \n",
       "4   Individual       Manual  Second Owner  \n",
       "5   Individual       Manual   First Owner  \n",
       "6   Individual       Manual   First Owner  \n",
       "7   Individual       Manual  Second Owner  \n",
       "8   Individual       Manual   First Owner  \n",
       "9   Individual       Manual   First Owner  \n",
       "10  Individual       Manual   First Owner  \n",
       "11  Individual       Manual   First Owner  \n",
       "12      Dealer    Automatic   First Owner  \n",
       "13  Individual       Manual   First Owner  \n",
       "14  Individual       Manual   First Owner  \n",
       "15  Individual       Manual   First Owner  \n",
       "16  Individual       Manual   First Owner  \n",
       "17  Individual       Manual  Second Owner  \n",
       "18  Individual       Manual   First Owner  \n",
       "19  Individual       Manual   First Owner  "
      ]
     },
     "execution_count": 4,
     "metadata": {},
     "output_type": "execute_result"
    }
   ],
   "source": [
    "df.head(20)"
   ]
  },
  {
   "cell_type": "markdown",
   "id": "45e570c3-6823-4bb5-9482-664cd221770b",
   "metadata": {},
   "source": [
    "### Подраздел 2.2: Оценка данных при помощи info"
   ]
  },
  {
   "cell_type": "code",
   "execution_count": 5,
   "id": "e6e5dd24-7bc4-4a26-aa25-bdd2d1dc6751",
   "metadata": {},
   "outputs": [
    {
     "name": "stdout",
     "output_type": "stream",
     "text": [
      "<class 'pandas.core.frame.DataFrame'>\n",
      "RangeIndex: 4344 entries, 0 to 4343\n",
      "Data columns (total 8 columns):\n",
      " #   Column        Non-Null Count  Dtype  \n",
      "---  ------        --------------  -----  \n",
      " 0   Name          4344 non-null   object \n",
      " 1   year          4344 non-null   int64  \n",
      " 2   SellingPrice  4342 non-null   float64\n",
      " 3   kmdriven      4343 non-null   float64\n",
      " 4   fuel          4343 non-null   object \n",
      " 5   seller_Type   4344 non-null   object \n",
      " 6   transmission  4344 non-null   object \n",
      " 7   owner         4344 non-null   object \n",
      "dtypes: float64(2), int64(1), object(5)\n",
      "memory usage: 271.6+ KB\n"
     ]
    }
   ],
   "source": [
    "df.info()"
   ]
  },
  {
   "cell_type": "markdown",
   "id": "9ff7bed1-2824-4668-b4cd-ac64c3a833be",
   "metadata": {},
   "source": [
    "### Подраздел 2.3: Оценка при помощи describe"
   ]
  },
  {
   "cell_type": "code",
   "execution_count": 6,
   "id": "79392526-4139-40b1-8300-faca17a31730",
   "metadata": {},
   "outputs": [
    {
     "data": {
      "text/html": [
       "<div>\n",
       "<style scoped>\n",
       "    .dataframe tbody tr th:only-of-type {\n",
       "        vertical-align: middle;\n",
       "    }\n",
       "\n",
       "    .dataframe tbody tr th {\n",
       "        vertical-align: top;\n",
       "    }\n",
       "\n",
       "    .dataframe thead th {\n",
       "        text-align: right;\n",
       "    }\n",
       "</style>\n",
       "<table border=\"1\" class=\"dataframe\">\n",
       "  <thead>\n",
       "    <tr style=\"text-align: right;\">\n",
       "      <th></th>\n",
       "      <th>year</th>\n",
       "      <th>SellingPrice</th>\n",
       "      <th>kmdriven</th>\n",
       "    </tr>\n",
       "  </thead>\n",
       "  <tbody>\n",
       "    <tr>\n",
       "      <th>count</th>\n",
       "      <td>4344.000000</td>\n",
       "      <td>4.342000e+03</td>\n",
       "      <td>4343.000000</td>\n",
       "    </tr>\n",
       "    <tr>\n",
       "      <th>mean</th>\n",
       "      <td>2013.092311</td>\n",
       "      <td>5.039987e+05</td>\n",
       "      <td>66193.063320</td>\n",
       "    </tr>\n",
       "    <tr>\n",
       "      <th>std</th>\n",
       "      <td>4.214543</td>\n",
       "      <td>5.784465e+05</td>\n",
       "      <td>46636.648764</td>\n",
       "    </tr>\n",
       "    <tr>\n",
       "      <th>min</th>\n",
       "      <td>1992.000000</td>\n",
       "      <td>2.000000e+04</td>\n",
       "      <td>1.000000</td>\n",
       "    </tr>\n",
       "    <tr>\n",
       "      <th>25%</th>\n",
       "      <td>2011.000000</td>\n",
       "      <td>2.100000e+05</td>\n",
       "      <td>35000.000000</td>\n",
       "    </tr>\n",
       "    <tr>\n",
       "      <th>50%</th>\n",
       "      <td>2014.000000</td>\n",
       "      <td>3.500000e+05</td>\n",
       "      <td>60000.000000</td>\n",
       "    </tr>\n",
       "    <tr>\n",
       "      <th>75%</th>\n",
       "      <td>2016.000000</td>\n",
       "      <td>6.000000e+05</td>\n",
       "      <td>90000.000000</td>\n",
       "    </tr>\n",
       "    <tr>\n",
       "      <th>max</th>\n",
       "      <td>2020.000000</td>\n",
       "      <td>8.900000e+06</td>\n",
       "      <td>806599.000000</td>\n",
       "    </tr>\n",
       "  </tbody>\n",
       "</table>\n",
       "</div>"
      ],
      "text/plain": [
       "              year  SellingPrice       kmdriven\n",
       "count  4344.000000  4.342000e+03    4343.000000\n",
       "mean   2013.092311  5.039987e+05   66193.063320\n",
       "std       4.214543  5.784465e+05   46636.648764\n",
       "min    1992.000000  2.000000e+04       1.000000\n",
       "25%    2011.000000  2.100000e+05   35000.000000\n",
       "50%    2014.000000  3.500000e+05   60000.000000\n",
       "75%    2016.000000  6.000000e+05   90000.000000\n",
       "max    2020.000000  8.900000e+06  806599.000000"
      ]
     },
     "execution_count": 6,
     "metadata": {},
     "output_type": "execute_result"
    }
   ],
   "source": [
    "df.describe()"
   ]
  },
  {
   "cell_type": "markdown",
   "id": "fd94753c-f235-47bf-b968-7e93fe660406",
   "metadata": {},
   "source": [
    "### Подраздел 2.4: Оценка названий столбцов"
   ]
  },
  {
   "cell_type": "code",
   "execution_count": 7,
   "id": "639e60f7-b082-4641-b022-1162dd0a6291",
   "metadata": {},
   "outputs": [
    {
     "data": {
      "text/plain": [
       "Index(['Name', 'year', 'SellingPrice', 'kmdriven', 'fuel', 'seller_Type',\n",
       "       'transmission', 'owner'],\n",
       "      dtype='object')"
      ]
     },
     "execution_count": 7,
     "metadata": {},
     "output_type": "execute_result"
    }
   ],
   "source": [
    "df.columns"
   ]
  },
  {
   "cell_type": "markdown",
   "id": "01efc21f-7570-40a3-b492-448fffcd3b5a",
   "metadata": {},
   "source": [
    "## Раздел 3: Проверка пропусков"
   ]
  },
  {
   "cell_type": "code",
   "execution_count": 10,
   "id": "51b5cf8e-1b7f-4177-b002-86477e79d925",
   "metadata": {},
   "outputs": [],
   "source": [
    "df = df.rename(columns={\n",
    "    'year': 'Year',\n",
    "    'SellingPrice': 'Sellingprice',\n",
    "    'kmdriven': 'Kmdriven',\n",
    "    'seller_Type': 'Seller_type',\n",
    "    'owner': 'Owner',\n",
    "    'fuel': 'Fuel',\n",
    "    'transmission': 'Transmission'\n",
    "})"
   ]
  },
  {
   "cell_type": "code",
   "execution_count": 11,
   "id": "ac0c6885-8e35-416f-ba00-91e48f5344cc",
   "metadata": {},
   "outputs": [
    {
     "data": {
      "text/plain": [
       "Name            0\n",
       "Year            0\n",
       "Sellingprice    2\n",
       "Kmdriven        1\n",
       "Fuel            1\n",
       "Seller_type     0\n",
       "Transmission    0\n",
       "Owner           0\n",
       "dtype: int64"
      ]
     },
     "execution_count": 11,
     "metadata": {},
     "output_type": "execute_result"
    }
   ],
   "source": [
    "df.isnull().sum()"
   ]
  },
  {
   "cell_type": "code",
   "execution_count": 12,
   "id": "d94bfb5c-0b1f-45ac-907f-be2b8f1c528d",
   "metadata": {},
   "outputs": [],
   "source": [
    "# Для числовых столбцов используем среднее\n",
    "df['Sellingprice'] = df['Sellingprice'].fillna(df['Sellingprice'].mean())\n",
    "df['Kmdriven'] = df['Kmdriven'].fillna(df['Kmdriven'].mean())\n",
    "\n",
    "# Для категориального столбца используем моду (самое частое значение)\n",
    "df['Fuel'] = df['Fuel'].fillna(df['Fuel'].mode()[0])"
   ]
  },
  {
   "cell_type": "code",
   "execution_count": 13,
   "id": "3c9afb80-2dd5-44af-a15d-17d52d92aaea",
   "metadata": {},
   "outputs": [
    {
     "name": "stdout",
     "output_type": "stream",
     "text": [
      "<class 'pandas.core.frame.DataFrame'>\n",
      "RangeIndex: 4344 entries, 0 to 4343\n",
      "Data columns (total 8 columns):\n",
      " #   Column        Non-Null Count  Dtype  \n",
      "---  ------        --------------  -----  \n",
      " 0   Name          4344 non-null   object \n",
      " 1   Year          4344 non-null   int64  \n",
      " 2   Sellingprice  4344 non-null   float64\n",
      " 3   Kmdriven      4344 non-null   float64\n",
      " 4   Fuel          4344 non-null   object \n",
      " 5   Seller_type   4344 non-null   object \n",
      " 6   Transmission  4344 non-null   object \n",
      " 7   Owner         4344 non-null   object \n",
      "dtypes: float64(2), int64(1), object(5)\n",
      "memory usage: 271.6+ KB\n"
     ]
    }
   ],
   "source": [
    "df.info()"
   ]
  },
  {
   "cell_type": "markdown",
   "id": "9330eed3-4694-4ddb-b80a-8a90224420ae",
   "metadata": {},
   "source": [
    "## Раздел 4: Проверка дубликатов\n",
    "### Подраздел 4.1: Удаление явных дубликатов"
   ]
  },
  {
   "cell_type": "code",
   "execution_count": 14,
   "id": "1e1846dc-7cf9-431f-ae37-b29f2b10b70c",
   "metadata": {},
   "outputs": [
    {
     "data": {
      "text/plain": [
       "np.int64(763)"
      ]
     },
     "execution_count": 14,
     "metadata": {},
     "output_type": "execute_result"
    }
   ],
   "source": [
    "df.duplicated().sum()"
   ]
  },
  {
   "cell_type": "code",
   "execution_count": 15,
   "id": "a96da330-c2f6-4f71-8bf1-6df89db64d04",
   "metadata": {},
   "outputs": [
    {
     "data": {
      "text/plain": [
       "np.int64(0)"
      ]
     },
     "execution_count": 15,
     "metadata": {},
     "output_type": "execute_result"
    }
   ],
   "source": [
    "df = df.drop_duplicates()\n",
    "df = df.reset_index(drop=True)\n",
    "df.duplicated().sum()"
   ]
  },
  {
   "cell_type": "markdown",
   "id": "6455ed47-8a9b-444e-b32c-8367f5661ab9",
   "metadata": {},
   "source": [
    "### Подраздел 4.2: Проверка и удаление неявных дубликатов"
   ]
  },
  {
   "cell_type": "code",
   "execution_count": 16,
   "id": "9df5d269-7f80-41f7-881e-b67383c801c3",
   "metadata": {},
   "outputs": [
    {
     "name": "stdout",
     "output_type": "stream",
     "text": [
      "['Petrol' 'Diesel' 'Petroll' 'CNG' 'LPG' 'Electric']\n",
      "['Individual' 'Dealer' 'Dealeer' 'Trustmark Dealer']\n",
      "['Manual' 'Automatic']\n",
      "['First Owner' 'Second Owner' 'Fourth & Above Owner' 'Third Owner'\n",
      " 'Test Drive Car']\n"
     ]
    }
   ],
   "source": [
    "# Проверяем все уникальные значения\n",
    "print(df['Fuel'].unique())\n",
    "print(df['Seller_type'].unique())\n",
    "print(df['Transmission'].unique())\n",
    "print(df['Owner'].unique())"
   ]
  },
  {
   "cell_type": "code",
   "execution_count": 17,
   "id": "9fce5537-e45a-4c25-b60a-1005d006a633",
   "metadata": {},
   "outputs": [
    {
     "name": "stdout",
     "output_type": "stream",
     "text": [
      "['Petrol' 'Diesel' 'CNG' 'LPG' 'Electric']\n",
      "['Individual' 'Dealer' 'Trustmark Dealer']\n"
     ]
    }
   ],
   "source": [
    "df['Fuel'] = df['Fuel'].replace({\n",
    "    'Petroll': 'Petrol'\n",
    "})\n",
    "\n",
    "df['Seller_type'] = df['Seller_type'].replace({\n",
    "    'Dealeer': 'Dealer'\n",
    "})\n",
    "\n",
    "print(df['Fuel'].unique())\n",
    "print(df['Seller_type'].unique())"
   ]
  },
  {
   "cell_type": "markdown",
   "id": "64596e1c-694e-4979-9c7f-33c237469c1d",
   "metadata": {},
   "source": [
    "## Раздел 5: Проверка типов данных"
   ]
  },
  {
   "cell_type": "code",
   "execution_count": 18,
   "id": "c1214e30-1c82-438d-a80b-42f5bf0efef9",
   "metadata": {},
   "outputs": [
    {
     "data": {
      "text/plain": [
       "Name             object\n",
       "Year              int64\n",
       "Sellingprice    float64\n",
       "Kmdriven        float64\n",
       "Fuel             object\n",
       "Seller_type      object\n",
       "Transmission     object\n",
       "Owner            object\n",
       "dtype: object"
      ]
     },
     "execution_count": 18,
     "metadata": {},
     "output_type": "execute_result"
    }
   ],
   "source": [
    "df.dtypes"
   ]
  },
  {
   "cell_type": "code",
   "execution_count": 19,
   "id": "475cd47e-a063-4e3a-a702-8abaaf76e085",
   "metadata": {},
   "outputs": [
    {
     "data": {
      "text/html": [
       "<div>\n",
       "<style scoped>\n",
       "    .dataframe tbody tr th:only-of-type {\n",
       "        vertical-align: middle;\n",
       "    }\n",
       "\n",
       "    .dataframe tbody tr th {\n",
       "        vertical-align: top;\n",
       "    }\n",
       "\n",
       "    .dataframe thead th {\n",
       "        text-align: right;\n",
       "    }\n",
       "</style>\n",
       "<table border=\"1\" class=\"dataframe\">\n",
       "  <thead>\n",
       "    <tr style=\"text-align: right;\">\n",
       "      <th></th>\n",
       "      <th>Name</th>\n",
       "      <th>Year</th>\n",
       "      <th>Sellingprice</th>\n",
       "      <th>Kmdriven</th>\n",
       "      <th>Fuel</th>\n",
       "      <th>Seller_type</th>\n",
       "      <th>Transmission</th>\n",
       "      <th>Owner</th>\n",
       "    </tr>\n",
       "  </thead>\n",
       "  <tbody>\n",
       "    <tr>\n",
       "      <th>0</th>\n",
       "      <td>Maruti 800 AC</td>\n",
       "      <td>2007</td>\n",
       "      <td>60000.000000</td>\n",
       "      <td>70000.00000</td>\n",
       "      <td>Petrol</td>\n",
       "      <td>Individual</td>\n",
       "      <td>Manual</td>\n",
       "      <td>First Owner</td>\n",
       "    </tr>\n",
       "    <tr>\n",
       "      <th>1</th>\n",
       "      <td>Maruti Wagon R LXI Minor</td>\n",
       "      <td>2007</td>\n",
       "      <td>135000.000000</td>\n",
       "      <td>50000.00000</td>\n",
       "      <td>Petrol</td>\n",
       "      <td>Individual</td>\n",
       "      <td>Manual</td>\n",
       "      <td>First Owner</td>\n",
       "    </tr>\n",
       "    <tr>\n",
       "      <th>2</th>\n",
       "      <td>Hyundai Verna 1.6 SX</td>\n",
       "      <td>2012</td>\n",
       "      <td>600000.000000</td>\n",
       "      <td>100000.00000</td>\n",
       "      <td>Diesel</td>\n",
       "      <td>Individual</td>\n",
       "      <td>Manual</td>\n",
       "      <td>First Owner</td>\n",
       "    </tr>\n",
       "    <tr>\n",
       "      <th>3</th>\n",
       "      <td>Datsun RediGO T Option</td>\n",
       "      <td>2017</td>\n",
       "      <td>250000.000000</td>\n",
       "      <td>46000.00000</td>\n",
       "      <td>Petrol</td>\n",
       "      <td>Individual</td>\n",
       "      <td>Manual</td>\n",
       "      <td>First Owner</td>\n",
       "    </tr>\n",
       "    <tr>\n",
       "      <th>4</th>\n",
       "      <td>Honda Amaze VX i-DTEC</td>\n",
       "      <td>2014</td>\n",
       "      <td>450000.000000</td>\n",
       "      <td>141000.00000</td>\n",
       "      <td>Diesel</td>\n",
       "      <td>Individual</td>\n",
       "      <td>Manual</td>\n",
       "      <td>Second Owner</td>\n",
       "    </tr>\n",
       "    <tr>\n",
       "      <th>...</th>\n",
       "      <td>...</td>\n",
       "      <td>...</td>\n",
       "      <td>...</td>\n",
       "      <td>...</td>\n",
       "      <td>...</td>\n",
       "      <td>...</td>\n",
       "      <td>...</td>\n",
       "      <td>...</td>\n",
       "    </tr>\n",
       "    <tr>\n",
       "      <th>3576</th>\n",
       "      <td>Maruti 800 AC BSIII</td>\n",
       "      <td>2009</td>\n",
       "      <td>110000.000000</td>\n",
       "      <td>83000.00000</td>\n",
       "      <td>Petrol</td>\n",
       "      <td>Individual</td>\n",
       "      <td>Manual</td>\n",
       "      <td>Second Owner</td>\n",
       "    </tr>\n",
       "    <tr>\n",
       "      <th>3577</th>\n",
       "      <td>Hyundai Creta 1.6 CRDi SX Option</td>\n",
       "      <td>2016</td>\n",
       "      <td>865000.000000</td>\n",
       "      <td>90000.00000</td>\n",
       "      <td>Diesel</td>\n",
       "      <td>Individual</td>\n",
       "      <td>Manual</td>\n",
       "      <td>First Owner</td>\n",
       "    </tr>\n",
       "    <tr>\n",
       "      <th>3578</th>\n",
       "      <td>Renault KWID RXT</td>\n",
       "      <td>2016</td>\n",
       "      <td>225000.000000</td>\n",
       "      <td>40000.00000</td>\n",
       "      <td>Petrol</td>\n",
       "      <td>Individual</td>\n",
       "      <td>Manual</td>\n",
       "      <td>First Owner</td>\n",
       "    </tr>\n",
       "    <tr>\n",
       "      <th>3579</th>\n",
       "      <td>Tata Manza Aura Safire BS IV</td>\n",
       "      <td>2010</td>\n",
       "      <td>503998.740903</td>\n",
       "      <td>66193.06332</td>\n",
       "      <td>Petrol</td>\n",
       "      <td>Individual</td>\n",
       "      <td>Manual</td>\n",
       "      <td>Second Owner</td>\n",
       "    </tr>\n",
       "    <tr>\n",
       "      <th>3580</th>\n",
       "      <td>Maruti Celerio ZXI</td>\n",
       "      <td>2017</td>\n",
       "      <td>503998.740903</td>\n",
       "      <td>20000.00000</td>\n",
       "      <td>Diesel</td>\n",
       "      <td>Individual</td>\n",
       "      <td>Manual</td>\n",
       "      <td>First Owner</td>\n",
       "    </tr>\n",
       "  </tbody>\n",
       "</table>\n",
       "<p>3581 rows × 8 columns</p>\n",
       "</div>"
      ],
      "text/plain": [
       "                                  Name  Year   Sellingprice      Kmdriven  \\\n",
       "0                        Maruti 800 AC  2007   60000.000000   70000.00000   \n",
       "1             Maruti Wagon R LXI Minor  2007  135000.000000   50000.00000   \n",
       "2                 Hyundai Verna 1.6 SX  2012  600000.000000  100000.00000   \n",
       "3               Datsun RediGO T Option  2017  250000.000000   46000.00000   \n",
       "4                Honda Amaze VX i-DTEC  2014  450000.000000  141000.00000   \n",
       "...                                ...   ...            ...           ...   \n",
       "3576               Maruti 800 AC BSIII  2009  110000.000000   83000.00000   \n",
       "3577  Hyundai Creta 1.6 CRDi SX Option  2016  865000.000000   90000.00000   \n",
       "3578                  Renault KWID RXT  2016  225000.000000   40000.00000   \n",
       "3579      Tata Manza Aura Safire BS IV  2010  503998.740903   66193.06332   \n",
       "3580                Maruti Celerio ZXI  2017  503998.740903   20000.00000   \n",
       "\n",
       "        Fuel Seller_type Transmission         Owner  \n",
       "0     Petrol  Individual       Manual   First Owner  \n",
       "1     Petrol  Individual       Manual   First Owner  \n",
       "2     Diesel  Individual       Manual   First Owner  \n",
       "3     Petrol  Individual       Manual   First Owner  \n",
       "4     Diesel  Individual       Manual  Second Owner  \n",
       "...      ...         ...          ...           ...  \n",
       "3576  Petrol  Individual       Manual  Second Owner  \n",
       "3577  Diesel  Individual       Manual   First Owner  \n",
       "3578  Petrol  Individual       Manual   First Owner  \n",
       "3579  Petrol  Individual       Manual  Second Owner  \n",
       "3580  Diesel  Individual       Manual   First Owner  \n",
       "\n",
       "[3581 rows x 8 columns]"
      ]
     },
     "metadata": {},
     "output_type": "display_data"
    }
   ],
   "source": [
    "display(df)"
   ]
  },
  {
   "cell_type": "markdown",
   "id": "3152c17c-1d2e-4232-9bd8-f43f13bd1a0f",
   "metadata": {},
   "source": [
    "## Раздел 6: Группировки и сводные таблицы"
   ]
  },
  {
   "cell_type": "markdown",
   "id": "33546bf4-da84-4cec-85fa-d325634063ad",
   "metadata": {},
   "source": [
    "### Подраздел 6.1: Первая группировка по Fuel и Seller_type"
   ]
  },
  {
   "cell_type": "code",
   "execution_count": 20,
   "id": "e2fddd69-dd34-4c86-aefc-23e8e5da8558",
   "metadata": {},
   "outputs": [
    {
     "name": "stdout",
     "output_type": "stream",
     "text": [
      "Fuel      Seller_type     \n",
      "CNG       Dealer                 9\n",
      "          Individual            28\n",
      "Diesel    Dealer               377\n",
      "          Individual          1410\n",
      "          Trustmark Dealer      14\n",
      "Electric  Dealer                 1\n",
      "LPG       Dealer                 1\n",
      "          Individual            21\n",
      "Petrol    Dealer               324\n",
      "          Individual          1377\n",
      "          Trustmark Dealer      19\n",
      "dtype: int64\n"
     ]
    }
   ],
   "source": [
    "group1 = df.groupby(['Fuel', 'Seller_type']).size()\n",
    "print(group1)"
   ]
  },
  {
   "cell_type": "markdown",
   "id": "e4968695-2824-4a7b-a48f-d7851e755067",
   "metadata": {},
   "source": [
    "### Подраздел 6.2: Вторая группировка по Fuel и Seller_type и создание датафрейма"
   ]
  },
  {
   "cell_type": "code",
   "execution_count": 21,
   "id": "4660f56a-b882-492d-aff9-6eff097dabf4",
   "metadata": {},
   "outputs": [
    {
     "name": "stdout",
     "output_type": "stream",
     "text": [
      "        Fuel       Seller_type  count\n",
      "3     Diesel        Individual   1410\n",
      "9     Petrol        Individual   1377\n",
      "2     Diesel            Dealer    377\n",
      "8     Petrol            Dealer    324\n",
      "1        CNG        Individual     28\n",
      "7        LPG        Individual     21\n",
      "10    Petrol  Trustmark Dealer     19\n",
      "4     Diesel  Trustmark Dealer     14\n",
      "0        CNG            Dealer      9\n",
      "5   Electric            Dealer      1\n",
      "6        LPG            Dealer      1\n"
     ]
    }
   ],
   "source": [
    "group2 = group1.reset_index(name='count')\n",
    "group2 = group2.sort_values(by='count', ascending=False)\n",
    "\n",
    "print(group2)"
   ]
  },
  {
   "cell_type": "markdown",
   "id": "2eeaffba-0710-4ad8-89b4-c12dd6fdb1cf",
   "metadata": {},
   "source": [
    "### Подраздел 6.3: Сводная таблица по параметру Средний пробег по годам"
   ]
  },
  {
   "cell_type": "code",
   "execution_count": 22,
   "id": "6212d971-08f3-4d30-8761-74bf592488c2",
   "metadata": {},
   "outputs": [
    {
     "name": "stdout",
     "output_type": "stream",
     "text": [
      "       Kmdriven\n",
      "Year           \n",
      "2006  102916.10\n",
      "1992  100000.00\n",
      "1995  100000.00\n",
      "2009   96822.59\n",
      "2010   93720.54\n",
      "2007   92119.63\n",
      "2004   91407.34\n",
      "2011   90983.64\n",
      "1997   90000.00\n",
      "2008   88914.12\n",
      "2005   87897.74\n",
      "2001   86743.62\n",
      "2012   86123.29\n",
      "2003   82792.77\n",
      "2002   82555.56\n",
      "2013   76548.66\n",
      "2014   76406.01\n",
      "2000   70936.92\n",
      "1998   70000.00\n",
      "1999   67446.67\n",
      "2015   64279.83\n",
      "2016   57607.74\n",
      "1996   47500.00\n",
      "2017   43006.00\n",
      "2018   28524.72\n",
      "2019   19772.75\n",
      "2020   10961.87\n"
     ]
    }
   ],
   "source": [
    "pivot1 = df.pivot_table(values='Kmdriven', index='Year', aggfunc='mean')\n",
    "pivot1 = pivot1.sort_values(by='Kmdriven', ascending=False).round(2)\n",
    "\n",
    "print(pivot1)"
   ]
  },
  {
   "cell_type": "markdown",
   "id": "cbcbc683-3ec7-49bc-acbe-bd38bfe4d7bc",
   "metadata": {},
   "source": [
    "### Подраздел 6.4: Сводная таблица по параметру Средний пробег по коробке передач и топливу"
   ]
  },
  {
   "cell_type": "code",
   "execution_count": 23,
   "id": "cff9381e-228d-4138-8ca1-5db03959a2c5",
   "metadata": {},
   "outputs": [
    {
     "name": "stdout",
     "output_type": "stream",
     "text": [
      "Fuel               CNG    Diesel  Electric       LPG    Petrol\n",
      "Transmission                                                  \n",
      "Automatic          NaN  64705.44   62000.0       NaN  40256.00\n",
      "Manual        66551.08  85299.34       NaN  89618.18  55468.75\n"
     ]
    }
   ],
   "source": [
    "pivot2 = df.pivot_table(values='Kmdriven', index='Transmission', columns='Fuel', aggfunc='mean')\n",
    "pivot2 = pivot2.sort_index().round(2)\n",
    "\n",
    "print(pivot2)"
   ]
  },
  {
   "cell_type": "code",
   "execution_count": null,
   "id": "b2da001f-11f3-4748-bfd2-409a9125ff6a",
   "metadata": {},
   "outputs": [],
   "source": []
  }
 ],
 "metadata": {
  "kernelspec": {
   "display_name": "Python 3 (ipykernel)",
   "language": "python",
   "name": "python3"
  },
  "language_info": {
   "codemirror_mode": {
    "name": "ipython",
    "version": 3
   },
   "file_extension": ".py",
   "mimetype": "text/x-python",
   "name": "python",
   "nbconvert_exporter": "python",
   "pygments_lexer": "ipython3",
   "version": "3.13.7"
  }
 },
 "nbformat": 4,
 "nbformat_minor": 5
}
